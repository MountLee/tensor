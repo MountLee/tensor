{
 "cells": [
  {
   "cell_type": "code",
   "execution_count": 1,
   "metadata": {},
   "outputs": [],
   "source": [
    "import numpy as np\n",
    "import tensorly as tl"
   ]
  },
  {
   "cell_type": "code",
   "execution_count": 2,
   "metadata": {
    "scrolled": true
   },
   "outputs": [
    {
     "data": {
      "text/plain": [
       "array([[[1, 2],\n",
       "        [3, 4]],\n",
       "\n",
       "       [[5, 6],\n",
       "        [7, 8]]])"
      ]
     },
     "execution_count": 2,
     "metadata": {},
     "output_type": "execute_result"
    }
   ],
   "source": [
    "a = np.arange(1, 9).reshape((2,2,2))\n",
    "a"
   ]
  },
  {
   "cell_type": "code",
   "execution_count": 3,
   "metadata": {},
   "outputs": [
    {
     "data": {
      "text/plain": [
       "array([[1, 2, 3, 4],\n",
       "       [5, 6, 7, 8]])"
      ]
     },
     "execution_count": 3,
     "metadata": {},
     "output_type": "execute_result"
    }
   ],
   "source": [
    "tl.unfold(a, 0)"
   ]
  },
  {
   "cell_type": "code",
   "execution_count": null,
   "metadata": {},
   "outputs": [],
   "source": []
  },
  {
   "cell_type": "code",
   "execution_count": 18,
   "metadata": {
    "scrolled": true
   },
   "outputs": [
    {
     "data": {
      "text/plain": [
       "array([[[ 1,  2,  3],\n",
       "        [ 4,  5,  6],\n",
       "        [ 7,  8,  9]],\n",
       "\n",
       "       [[10, 11, 12],\n",
       "        [13, 14, 15],\n",
       "        [16, 17, 18]],\n",
       "\n",
       "       [[19, 20, 21],\n",
       "        [22, 23, 24],\n",
       "        [25, 26, 27]]])"
      ]
     },
     "execution_count": 18,
     "metadata": {},
     "output_type": "execute_result"
    }
   ],
   "source": [
    "a = np.arange(1, 28).reshape((3,3,3))\n",
    "a"
   ]
  },
  {
   "cell_type": "code",
   "execution_count": 26,
   "metadata": {},
   "outputs": [
    {
     "data": {
      "text/plain": [
       "array([[1, 2, 3],\n",
       "       [4, 5, 6],\n",
       "       [7, 8, 9]])"
      ]
     },
     "execution_count": 26,
     "metadata": {},
     "output_type": "execute_result"
    }
   ],
   "source": [
    "a[0,:,:]"
   ]
  },
  {
   "cell_type": "code",
   "execution_count": 27,
   "metadata": {},
   "outputs": [
    {
     "data": {
      "text/plain": [
       "array([[ 1,  4,  7],\n",
       "       [10, 13, 16],\n",
       "       [19, 22, 25]])"
      ]
     },
     "execution_count": 27,
     "metadata": {},
     "output_type": "execute_result"
    }
   ],
   "source": [
    "a[:,:,0]"
   ]
  },
  {
   "cell_type": "code",
   "execution_count": 31,
   "metadata": {},
   "outputs": [
    {
     "data": {
      "text/plain": [
       "array([[ 1,  2,  3,  4,  5,  6,  7,  8,  9],\n",
       "       [10, 11, 12, 13, 14, 15, 16, 17, 18],\n",
       "       [19, 20, 21, 22, 23, 24, 25, 26, 27]])"
      ]
     },
     "execution_count": 31,
     "metadata": {},
     "output_type": "execute_result"
    }
   ],
   "source": [
    "tl.unfold(a, 0)"
   ]
  },
  {
   "cell_type": "code",
   "execution_count": 23,
   "metadata": {},
   "outputs": [
    {
     "data": {
      "text/plain": [
       "array([[ 1,  2,  3, 10, 11, 12, 19, 20, 21],\n",
       "       [ 4,  5,  6, 13, 14, 15, 22, 23, 24],\n",
       "       [ 7,  8,  9, 16, 17, 18, 25, 26, 27]])"
      ]
     },
     "execution_count": 23,
     "metadata": {},
     "output_type": "execute_result"
    }
   ],
   "source": [
    "tl.unfold(a, 1)"
   ]
  },
  {
   "cell_type": "code",
   "execution_count": 28,
   "metadata": {},
   "outputs": [
    {
     "data": {
      "text/plain": [
       "array([[ 1,  4,  7, 10, 13, 16, 19, 22, 25],\n",
       "       [ 2,  5,  8, 11, 14, 17, 20, 23, 26],\n",
       "       [ 3,  6,  9, 12, 15, 18, 21, 24, 27]])"
      ]
     },
     "execution_count": 28,
     "metadata": {},
     "output_type": "execute_result"
    }
   ],
   "source": [
    "tl.unfold(a, 2)"
   ]
  },
  {
   "cell_type": "code",
   "execution_count": 9,
   "metadata": {},
   "outputs": [
    {
     "data": {
      "text/plain": [
       "array([0, 1, 2])"
      ]
     },
     "execution_count": 9,
     "metadata": {},
     "output_type": "execute_result"
    }
   ],
   "source": [
    "a = np.arange(10)\n",
    "a[0:3]"
   ]
  },
  {
   "cell_type": "code",
   "execution_count": 12,
   "metadata": {},
   "outputs": [
    {
     "data": {
      "text/plain": [
       "array([[0, 0, 0, 0, 0, 0, 0, 0, 0, 0],\n",
       "       [0, 1, 0, 0, 0, 0, 0, 0, 0, 0],\n",
       "       [0, 0, 2, 0, 0, 0, 0, 0, 0, 0],\n",
       "       [0, 0, 0, 3, 0, 0, 0, 0, 0, 0],\n",
       "       [0, 0, 0, 0, 4, 0, 0, 0, 0, 0],\n",
       "       [0, 0, 0, 0, 0, 5, 0, 0, 0, 0],\n",
       "       [0, 0, 0, 0, 0, 0, 6, 0, 0, 0],\n",
       "       [0, 0, 0, 0, 0, 0, 0, 7, 0, 0],\n",
       "       [0, 0, 0, 0, 0, 0, 0, 0, 8, 0],\n",
       "       [0, 0, 0, 0, 0, 0, 0, 0, 0, 9]])"
      ]
     },
     "execution_count": 12,
     "metadata": {},
     "output_type": "execute_result"
    }
   ],
   "source": [
    "np.diag(a)"
   ]
  },
  {
   "cell_type": "code",
   "execution_count": 88,
   "metadata": {},
   "outputs": [
    {
     "name": "stdout",
     "output_type": "stream",
     "text": [
      "[[0.1223652  0.51340576 0.37443652 0.44298534 0.82696   ]\n",
      " [0.6481303  0.57691622 0.80980305 0.15501181 0.57577838]\n",
      " [0.33097278 0.28210615 0.55282072 0.47664939 0.10374515]\n",
      " [0.3279378  0.55297838 0.75075093 0.12087779 0.0690007 ]\n",
      " [0.72155971 0.67749746 0.70450996 0.97301911 0.37807847]]\n"
     ]
    }
   ],
   "source": [
    "a = np.random.uniform(0, 1, (5, 5))\n",
    "print(a)\n",
    "b = np.linalg.svd(a, 3)"
   ]
  },
  {
   "cell_type": "code",
   "execution_count": 89,
   "metadata": {},
   "outputs": [
    {
     "data": {
      "text/plain": [
       "array([[0.1223652 , 0.51340576, 0.37443652, 0.44298534, 0.82696   ],\n",
       "       [0.6481303 , 0.57691622, 0.80980305, 0.15501181, 0.57577838],\n",
       "       [0.33097278, 0.28210615, 0.55282072, 0.47664939, 0.10374515],\n",
       "       [0.3279378 , 0.55297838, 0.75075093, 0.12087779, 0.0690007 ],\n",
       "       [0.72155971, 0.67749746, 0.70450996, 0.97301911, 0.37807847]])"
      ]
     },
     "execution_count": 89,
     "metadata": {},
     "output_type": "execute_result"
    }
   ],
   "source": [
    "b[0] @ np.diag(b[1]) @ b[2]"
   ]
  },
  {
   "cell_type": "code",
   "execution_count": 94,
   "metadata": {},
   "outputs": [
    {
     "data": {
      "text/plain": [
       "1.1102230246251565e-16"
      ]
     },
     "execution_count": 94,
     "metadata": {},
     "output_type": "execute_result"
    }
   ],
   "source": [
    "np.sum(b[0][:,1] * b[2][1,:])\n",
    "np.sum(b[2][1, :] * b[2][1, :])\n",
    "np.sum(b[2][1, :] * b[2][0, :])"
   ]
  },
  {
   "cell_type": "code",
   "execution_count": 15,
   "metadata": {},
   "outputs": [
    {
     "data": {
      "text/plain": [
       "array([0.71166253, 0.44901127, 0.4954989 , 0.72248079, 0.79526844])"
      ]
     },
     "execution_count": 15,
     "metadata": {},
     "output_type": "execute_result"
    }
   ],
   "source": [
    "np.diagonal(a)"
   ]
  },
  {
   "cell_type": "code",
   "execution_count": null,
   "metadata": {},
   "outputs": [],
   "source": [
    "tl.tenalg."
   ]
  },
  {
   "cell_type": "code",
   "execution_count": null,
   "metadata": {},
   "outputs": [],
   "source": [
    "tl.tenalg.mode_dot"
   ]
  },
  {
   "cell_type": "code",
   "execution_count": null,
   "metadata": {},
   "outputs": [],
   "source": [
    "np.transpose"
   ]
  },
  {
   "cell_type": "code",
   "execution_count": 38,
   "metadata": {},
   "outputs": [
    {
     "ename": "TypeError",
     "evalue": "'inplace' is an invalid keyword to ufunc 'clip'",
     "output_type": "error",
     "traceback": [
      "\u001b[1;31m---------------------------------------------------------------------------\u001b[0m",
      "\u001b[1;31mTypeError\u001b[0m                                 Traceback (most recent call last)",
      "\u001b[1;32m<ipython-input-38-e3bc6a3ca0da>\u001b[0m in \u001b[0;36m<module>\u001b[1;34m\u001b[0m\n\u001b[0;32m      1\u001b[0m \u001b[0ma\u001b[0m \u001b[1;33m=\u001b[0m \u001b[0mnp\u001b[0m\u001b[1;33m.\u001b[0m\u001b[0marange\u001b[0m\u001b[1;33m(\u001b[0m\u001b[1;33m-\u001b[0m\u001b[1;36m10\u001b[0m\u001b[1;33m,\u001b[0m \u001b[1;36m10\u001b[0m\u001b[1;33m)\u001b[0m\u001b[1;33m.\u001b[0m\u001b[0mreshape\u001b[0m\u001b[1;33m(\u001b[0m\u001b[1;33m(\u001b[0m\u001b[1;36m4\u001b[0m\u001b[1;33m,\u001b[0m\u001b[1;36m5\u001b[0m\u001b[1;33m)\u001b[0m\u001b[1;33m)\u001b[0m\u001b[1;33m\u001b[0m\u001b[1;33m\u001b[0m\u001b[0m\n\u001b[0;32m      2\u001b[0m \u001b[0mnp\u001b[0m\u001b[1;33m.\u001b[0m\u001b[0mclip\u001b[0m\u001b[1;33m(\u001b[0m\u001b[0ma\u001b[0m\u001b[1;33m,\u001b[0m \u001b[1;33m-\u001b[0m\u001b[1;36m1\u001b[0m\u001b[1;33m,\u001b[0m \u001b[1;36m1\u001b[0m\u001b[1;33m)\u001b[0m\u001b[1;33m\u001b[0m\u001b[1;33m\u001b[0m\u001b[0m\n\u001b[1;32m----> 3\u001b[1;33m \u001b[0ma\u001b[0m\u001b[1;33m.\u001b[0m\u001b[0mclip\u001b[0m\u001b[1;33m(\u001b[0m\u001b[1;33m-\u001b[0m\u001b[1;36m1\u001b[0m\u001b[1;33m,\u001b[0m \u001b[1;36m1\u001b[0m\u001b[1;33m,\u001b[0m \u001b[0minplace\u001b[0m \u001b[1;33m=\u001b[0m \u001b[1;32mTrue\u001b[0m\u001b[1;33m)\u001b[0m\u001b[1;33m\u001b[0m\u001b[1;33m\u001b[0m\u001b[0m\n\u001b[0m\u001b[0;32m      4\u001b[0m \u001b[0ma\u001b[0m\u001b[1;33m\u001b[0m\u001b[1;33m\u001b[0m\u001b[0m\n",
      "\u001b[1;32mc:\\python\\lib\\site-packages\\numpy\\core\\_methods.py\u001b[0m in \u001b[0;36m_clip\u001b[1;34m(a, min, max, out, casting, **kwargs)\u001b[0m\n\u001b[0;32m    157\u001b[0m     \u001b[1;32melse\u001b[0m\u001b[1;33m:\u001b[0m\u001b[1;33m\u001b[0m\u001b[1;33m\u001b[0m\u001b[0m\n\u001b[0;32m    158\u001b[0m         return _clip_dep_invoke_with_casting(\n\u001b[1;32m--> 159\u001b[1;33m             um.clip, a, min, max, out=out, casting=casting, **kwargs)\n\u001b[0m\u001b[0;32m    160\u001b[0m \u001b[1;33m\u001b[0m\u001b[0m\n\u001b[0;32m    161\u001b[0m \u001b[1;32mdef\u001b[0m \u001b[0m_mean\u001b[0m\u001b[1;33m(\u001b[0m\u001b[0ma\u001b[0m\u001b[1;33m,\u001b[0m \u001b[0maxis\u001b[0m\u001b[1;33m=\u001b[0m\u001b[1;32mNone\u001b[0m\u001b[1;33m,\u001b[0m \u001b[0mdtype\u001b[0m\u001b[1;33m=\u001b[0m\u001b[1;32mNone\u001b[0m\u001b[1;33m,\u001b[0m \u001b[0mout\u001b[0m\u001b[1;33m=\u001b[0m\u001b[1;32mNone\u001b[0m\u001b[1;33m,\u001b[0m \u001b[0mkeepdims\u001b[0m\u001b[1;33m=\u001b[0m\u001b[1;32mFalse\u001b[0m\u001b[1;33m,\u001b[0m \u001b[1;33m*\u001b[0m\u001b[1;33m,\u001b[0m \u001b[0mwhere\u001b[0m\u001b[1;33m=\u001b[0m\u001b[1;32mTrue\u001b[0m\u001b[1;33m)\u001b[0m\u001b[1;33m:\u001b[0m\u001b[1;33m\u001b[0m\u001b[1;33m\u001b[0m\u001b[0m\n",
      "\u001b[1;32mc:\\python\\lib\\site-packages\\numpy\\core\\_methods.py\u001b[0m in \u001b[0;36m_clip_dep_invoke_with_casting\u001b[1;34m(ufunc, out, casting, *args, **kwargs)\u001b[0m\n\u001b[0;32m    110\u001b[0m     \u001b[1;31m# try to deal with broken casting rules\u001b[0m\u001b[1;33m\u001b[0m\u001b[1;33m\u001b[0m\u001b[1;33m\u001b[0m\u001b[0m\n\u001b[0;32m    111\u001b[0m     \u001b[1;32mtry\u001b[0m\u001b[1;33m:\u001b[0m\u001b[1;33m\u001b[0m\u001b[1;33m\u001b[0m\u001b[0m\n\u001b[1;32m--> 112\u001b[1;33m         \u001b[1;32mreturn\u001b[0m \u001b[0mufunc\u001b[0m\u001b[1;33m(\u001b[0m\u001b[1;33m*\u001b[0m\u001b[0margs\u001b[0m\u001b[1;33m,\u001b[0m \u001b[0mout\u001b[0m\u001b[1;33m=\u001b[0m\u001b[0mout\u001b[0m\u001b[1;33m,\u001b[0m \u001b[1;33m**\u001b[0m\u001b[0mkwargs\u001b[0m\u001b[1;33m)\u001b[0m\u001b[1;33m\u001b[0m\u001b[1;33m\u001b[0m\u001b[0m\n\u001b[0m\u001b[0;32m    113\u001b[0m     \u001b[1;32mexcept\u001b[0m \u001b[0m_exceptions\u001b[0m\u001b[1;33m.\u001b[0m\u001b[0m_UFuncOutputCastingError\u001b[0m \u001b[1;32mas\u001b[0m \u001b[0me\u001b[0m\u001b[1;33m:\u001b[0m\u001b[1;33m\u001b[0m\u001b[1;33m\u001b[0m\u001b[0m\n\u001b[0;32m    114\u001b[0m         \u001b[1;31m# Numpy 1.17.0, 2019-02-24\u001b[0m\u001b[1;33m\u001b[0m\u001b[1;33m\u001b[0m\u001b[1;33m\u001b[0m\u001b[0m\n",
      "\u001b[1;31mTypeError\u001b[0m: 'inplace' is an invalid keyword to ufunc 'clip'"
     ]
    }
   ],
   "source": [
    "a = np.arange(-10, 10).reshape((4,5))\n",
    "np.clip(a, -1, 1)\n",
    "a.clip(-1, 1, inplace = True)\n",
    "a"
   ]
  },
  {
   "cell_type": "code",
   "execution_count": 95,
   "metadata": {},
   "outputs": [
    {
     "data": {
      "text/plain": [
       "array([[0, 1, 2, 3, 4],\n",
       "       [5, 0, 7, 8, 9]])"
      ]
     },
     "execution_count": 95,
     "metadata": {},
     "output_type": "execute_result"
    }
   ],
   "source": [
    "a = np.arange(10).reshape((2, 5))\n",
    "np.fill_diagonal(a, 0)\n",
    "a"
   ]
  },
  {
   "cell_type": "code",
   "execution_count": 96,
   "metadata": {},
   "outputs": [],
   "source": [
    "def hetero_pca_test(Y, r, tmax = 20, vartol = 1e-6):\n",
    "    N_t = Y.copy()\n",
    "    r = min(np.min(r), np.min(N_t.shape))\n",
    "    np.fill_diagonal(N_t, 0)\n",
    "    U_t = np.zeros((Y.shape[0], r))\n",
    "    \n",
    "    t = 1\n",
    "    approx = -1\n",
    "    while t < tmax:\n",
    "        svd_res = np.linalg.svd(N_t)\n",
    "        U_t = svd_res[0][:, 0:r]\n",
    "        tilde_N_test_t = svd_res[0][:, 0:r] @ np.diag(svd_res[1][0:r]) @ svd_res[2][0:r, :]\n",
    "        \n",
    "        svector = np.diagonal(tilde_N_test_t)\n",
    "        np.fill_diagonal(N_t, svector)\n",
    "        \n",
    "        if abs(np.sum(svector**2) - approx) > vartol:\n",
    "            t += 1\n",
    "            approx = np.sum(svector**2)\n",
    "        else:\n",
    "            break\n",
    "    return U_t\n",
    "\n",
    "\n",
    "def tensor_hetero_pca_test(Y, r):\n",
    "    p = Y.shape\n",
    "    d = len(p)\n",
    "    u_0 = []\n",
    "    for i in range(d):\n",
    "        Y_i = tl.unfold(Y, i)\n",
    "        Y_i_hetero_pca = hetero_pca_test(Y_i @ Y_i.T, r[i])\n",
    "        u_0.append(Y_i_hetero_pca)\n",
    "    return u_0\n",
    "\n",
    "\n",
    "def hetero_pca_estimate(Y, r_hat):\n",
    "    '''\n",
    "    Y: tensor\n",
    "    r_hat: rank hat\n",
    "    '''\n",
    "    U_hat = tensor_hetero_pca_test(Y, r_hat)\n",
    "    \n",
    "    P_U0 = U_hat[0] @ np.transpose(U_hat[0])\n",
    "    P_U1 = U_hat[1] @ np.transpose(U_hat[1])\n",
    "    P_U2 = U_hat[2] @ np.transpose(U_hat[2])\n",
    "    \n",
    "    Y_hat = tl.tenalg.mode_dot(Y, P_U0, 0)\n",
    "    Y_hat = tl.tenalg.mode_dot(Y_hat, P_U1, 1)\n",
    "    Y_hat = tl.tenalg.mode_dot(Y_hat, P_U2, 2)\n",
    "    \n",
    "    return np.clip(Y_hat, 0, 1)\n",
    "\n",
    "\n",
    "def get_prob_sbm(n, L):\n",
    "    Pt = np.zeros((n, n, L))\n",
    "    \n",
    "    prob = np.arange(2 * L + 1) / (2 * L)\n",
    "    \n",
    "    B = n // 4\n",
    "    for layer in range(L):\n",
    "        p1 = np.random.uniform(prob[L + layer], prob[L + layer + 1], 1)\n",
    "        p2 = np.random.uniform(prob[layer], prob[layer + 1], 1)\n",
    "        P = np.ones((n, n)) * p1\n",
    "        \n",
    "        P[1:B, 1:B] = p2\n",
    "        P[B:(2 * B), B:(2 * B)] = p2\n",
    "        P[(2 * B):(3 * B), (2 * B):(3 * B)] = p2\n",
    "        P[(3 * B):(4 * B), (3 * B):(4 * B)] = p2\n",
    "        \n",
    "        Pt[:, :, layer] = P\n",
    "    \n",
    "    return Pt\n",
    "\n",
    "\n",
    "def get_2prob_sbm(n, L):\n",
    "    P1 = np.zeros((n, n, L))\n",
    "    P2 = np.zeros((n, n, L))\n",
    "    \n",
    "    prob = np.arange(2 * L + 1) / (2 * L)\n",
    "    \n",
    "    B = n // 4\n",
    "    for layer in range(L):\n",
    "        p1 = np.random.uniform(prob[L + layer], prob[L + layer + 1], 1)\n",
    "        p2 = np.random.uniform(prob[layer], prob[layer + 1], 1)\n",
    "        P = np.ones((n, n)) * p1\n",
    "        \n",
    "        P[1:B, 1:B] = p2\n",
    "        P[B:(2 * B), B:(2 * B)] = p2\n",
    "        P[(2 * B):(3 * B), (2 * B):(3 * B)] = p2\n",
    "        P[(3 * B):(4 * B), (3 * B):(4 * B)] = p2\n",
    "        \n",
    "        P1[:, :, layer] = P\n",
    "        P2[:, :, L - layer - 1] = P\n",
    "    \n",
    "    return P1, P2\n",
    "\n",
    "\n",
    "def generate_tensor_probability(n, L, P):\n",
    "    A = np.zeros((n, n, L))\n",
    "    for layer in range(L):\n",
    "        u = np.random.uniform(0, 1, n**2).reshape((n, n))\n",
    "        A[:, :, layer] = (u < P[:, :, layer]) * 1\n",
    "    \n",
    "    r_hat = np.array([10, 10, 10])\n",
    "    \n",
    "    return A, r_hat\n",
    "\n",
    "\n",
    "def frobenius(X):\n",
    "    return np.sum(X**2)**0.5\n"
   ]
  },
  {
   "cell_type": "code",
   "execution_count": 57,
   "metadata": {},
   "outputs": [
    {
     "data": {
      "text/plain": [
       "285"
      ]
     },
     "execution_count": 57,
     "metadata": {},
     "output_type": "execute_result"
    }
   ],
   "source": [
    "frobenius(np.arange(10).reshape((2,5)))"
   ]
  },
  {
   "cell_type": "code",
   "execution_count": 55,
   "metadata": {},
   "outputs": [],
   "source": [
    "np.random.seed(0)"
   ]
  },
  {
   "cell_type": "code",
   "execution_count": 222,
   "metadata": {},
   "outputs": [
    {
     "name": "stdout",
     "output_type": "stream",
     "text": [
      "error:  14.068647931364312\n"
     ]
    }
   ],
   "source": [
    "n = 50\n",
    "L = 20\n",
    "\n",
    "P = get_prob_sbm(n, L)\n",
    "A, r_hat = generate_tensor_probability(n, L, P)\n",
    "\n",
    "P_hat = hetero_pca_estimate(A, r_hat)\n",
    "\n",
    "error = frobenius(P_hat - P)\n",
    "print(\"error: \", error)"
   ]
  },
  {
   "cell_type": "code",
   "execution_count": null,
   "metadata": {},
   "outputs": [],
   "source": []
  },
  {
   "cell_type": "code",
   "execution_count": null,
   "metadata": {},
   "outputs": [],
   "source": []
  }
 ],
 "metadata": {
  "kernelspec": {
   "display_name": "Python 3",
   "language": "python",
   "name": "python3"
  },
  "language_info": {
   "codemirror_mode": {
    "name": "ipython",
    "version": 3
   },
   "file_extension": ".py",
   "mimetype": "text/x-python",
   "name": "python",
   "nbconvert_exporter": "python",
   "pygments_lexer": "ipython3",
   "version": "3.7.4"
  }
 },
 "nbformat": 4,
 "nbformat_minor": 2
}
